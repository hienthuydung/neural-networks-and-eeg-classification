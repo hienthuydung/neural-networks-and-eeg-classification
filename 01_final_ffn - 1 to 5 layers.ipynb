{
 "cells": [
  {
   "cell_type": "code",
   "execution_count": 1,
   "metadata": {},
   "outputs": [],
   "source": [
    "#import modules\n",
    "import tensorflow as tf\n",
    "import numpy as np\n",
    "import matplotlib.pyplot as plt\n",
    "import os\n",
    "import pandas as pd\n",
    "from scipy.stats import zscore\n",
    "import sklearn\n",
    "from sklearn.model_selection import train_test_split\n",
    "import fnmatch"
   ]
  },
  {
   "cell_type": "code",
   "execution_count": 2,
   "metadata": {},
   "outputs": [],
   "source": [
    "#functions for read in data\n",
    "\n",
    "def find_files(directory, pattern='Data*.csv', withlabel=True):\n",
    "    '''fine all the files in one directory and assign '1'/'0' to F or N files'''\n",
    "    files = []\n",
    "    for root, dirnames, filenames in os.walk(directory):\n",
    "        for filename in fnmatch.filter(filenames, pattern):\n",
    "            if withlabel:\n",
    "                if 'non-seizure' in filename:\n",
    "                    label = '0'\n",
    "                else:\n",
    "                    label = '1'\n",
    "                files.append((os.path.join(root, filename), label))\n",
    "            else:  # only get names\n",
    "                files.append(os.path.join(root, filename))\n",
    "    \n",
    "    return files\n",
    "\n",
    "def read_data(filename, header=None, ifnorm=False):\n",
    "    '''read data from .csv\n",
    "    Param:\n",
    "        filename: string e.g. 'data/Data_F_Ind0001.csv'\n",
    "        ifnorm: boolean, 1 zscore normalization\n",
    "        start: with filter augmented data, start index of the column indicate which group of data to use\n",
    "        width: how many columns of data to use, times of 2\n",
    "    return:\n",
    "        data: 2d array [seq_len, channel]'''\n",
    "\n",
    "    data = pd.read_csv(filename, header=header, nrows=None)\n",
    "    data = data.values  ### get data without row_index\n",
    "    if ifnorm:   ### 2 * 10240  normalize the data into [0.0, 1.0]]\n",
    "        data_norm = zscore(data)\n",
    "        data = data_norm\n",
    "    #data = np.squeeze(data)   ## shape from [1, seq_len] --> [seq_len,]\n",
    "    return data\n"
   ]
  },
  {
   "cell_type": "code",
   "execution_count": 3,
   "metadata": {},
   "outputs": [
    {
     "name": "stdout",
     "output_type": "stream",
     "text": [
      "first file with label: ('C:\\\\Users\\\\hien\\\\Desktop\\\\eeg_data\\\\seg_data\\\\segNorm_read_out_annosep09_anno_115_non-seizure_No0.csv', '0')\n"
     ]
    }
   ],
   "source": [
    "#find segmented files and return them with label\n",
    "seg_files_wlabel = find_files('C:\\\\Users\\\\hien\\\\Desktop\\\\eeg_data\\\\seg_data', pattern='seg*.csv', withlabel=True)\n",
    "\n",
    "print(\"first file with label:\", seg_files_wlabel[0])"
   ]
  },
  {
   "cell_type": "code",
   "execution_count": 4,
   "metadata": {},
   "outputs": [
    {
     "name": "stdout",
     "output_type": "stream",
     "text": [
      "first filename: C:\\Users\\hien\\Desktop\\eeg_data\\seg_data\\segNorm_read_out_annosep09_anno_115_non-seizure_No0.csv\n",
      "first label 0\n"
     ]
    }
   ],
   "source": [
    "#split files and labels\n",
    "\n",
    "files, labels = np.array(seg_files_wlabel)[:, 0].astype(np.str), np.array(np.array(seg_files_wlabel)[:, 1]).astype(np.int)\n",
    "\n",
    "print(\"first filename:\", files[0])\n",
    "print(\"first label\", labels[0])"
   ]
  },
  {
   "cell_type": "code",
   "execution_count": 5,
   "metadata": {},
   "outputs": [
    {
     "data": {
      "text/plain": [
       "540"
      ]
     },
     "execution_count": 5,
     "metadata": {},
     "output_type": "execute_result"
    }
   ],
   "source": [
    "#number of elements in files/labels\n",
    "len(labels)"
   ]
  },
  {
   "cell_type": "code",
   "execution_count": 6,
   "metadata": {},
   "outputs": [
    {
     "name": "stdout",
     "output_type": "stream",
     "text": [
      "number of test input: 216\n",
      "number of training input: 324\n"
     ]
    }
   ],
   "source": [
    "#split data into training and testing\n",
    "\n",
    "files_train, files_test, labels_train, labels_test = train_test_split(files, labels, test_size=0.4, random_state=42)\n",
    "\n",
    "#print(labels_train)\n",
    "print(\"number of test input:\", len(labels_test))\n",
    "print(\"number of training input:\", len(labels_train))\n"
   ]
  },
  {
   "cell_type": "code",
   "execution_count": 7,
   "metadata": {},
   "outputs": [],
   "source": [
    "#set parameters\n",
    "\n",
    "learning_rate = 0.001\n",
    "total_iteration = 30 #number of iterations over all samples / number of epochs\n",
    "batch_size = 64 #amount of files fed to model per iteration\n",
    "test_sample = len(labels_test)\n",
    "total_batches = len(labels_train)//batch_size\n",
    "num_classes = 2\n",
    "\n",
    "hidden_dim = 2048\n",
    "hidden_dim2= 1024\n",
    "hidden_dim3 = 512\n",
    "hidden_dim4 = 256\n",
    "hidden_dim5 = 128\n",
    "hidden_dim6 = 64"
   ]
  },
  {
   "cell_type": "code",
   "execution_count": 162,
   "metadata": {},
   "outputs": [],
   "source": [
    "#set variables x=input, y_=output, W=weights, b=bias\n",
    "\n",
    "x_ori = tf.placeholder(\"float\",[None, 2048, 1], name = \"x_ori\") #number of data points\n",
    "y_ = tf.placeholder(\"float\",[None,2], name = \"y_\") #2 possible outputs\n",
    "\n",
    "W = tf.Variable(tf.zeros([2048, hidden_dim]), name = \"W\")\n",
    "b = tf.Variable(tf.zeros([hidden_dim]), name = \"b\")\n",
    "\n",
    "W2 = tf.Variable(tf.zeros([hidden_dim, hidden_dim2]), name = \"W2\")\n",
    "b2 = tf.Variable(tf.zeros([hidden_dim2]), name = \"b2\")\n",
    "\n",
    "W3 = tf.Variable(tf.zeros([hidden_dim2,hidden_dim3]), name = \"W3\")\n",
    "b3 = tf.Variable(tf.zeros([hidden_dim3]), name = \"b3\")\n",
    "\n",
    "W4 = tf.Variable(tf.zeros([hidden_dim3,hidden_dim4]), name = \"W4\")\n",
    "b4 = tf.Variable(tf.zeros([hidden_dim4]), name = \"b4\")\n",
    "\n",
    "W5 = tf.Variable(tf.zeros([hidden_dim4,hidden_dim5]), name = \"W5\")\n",
    "b5 = tf.Variable(tf.zeros([hidden_dim5]), name = \"b5\")\n",
    "\n",
    "W6 = tf.Variable(tf.zeros([hidden_dim5,hidden_dim6]), name = \"W6\")\n",
    "b6 = tf.Variable(tf.zeros([hidden_dim6]), name = \"b6\")\n",
    "\n",
    "W7 = tf.Variable(tf.zeros([hidden_dim6,2]), name = \"W7\")\n",
    "b7 = tf.Variable(tf.zeros([2]), name = \"b7\")\n"
   ]
  },
  {
   "cell_type": "code",
   "execution_count": 163,
   "metadata": {},
   "outputs": [],
   "source": [
    "#flatten input\n",
    "\n",
    "x = tf.contrib.layers.flatten(x_ori, outputs_collections=None, scope=None)"
   ]
  },
  {
   "cell_type": "code",
   "execution_count": 164,
   "metadata": {},
   "outputs": [],
   "source": [
    "#network\n",
    "#below the set up for the networks. for less hidden layers, set comments\n",
    "\n",
    "y = tf.nn.relu(tf.matmul(x,W) + b)"
   ]
  },
  {
   "cell_type": "code",
   "execution_count": 165,
   "metadata": {},
   "outputs": [],
   "source": [
    "y2 = tf.nn.relu(tf.matmul(y,W2) + b2)"
   ]
  },
  {
   "cell_type": "code",
   "execution_count": 166,
   "metadata": {},
   "outputs": [],
   "source": [
    "drop = tf.nn.dropout(y2, keep_prob = 0.1, noise_shape=None, seed=None, name=None)"
   ]
  },
  {
   "cell_type": "code",
   "execution_count": 167,
   "metadata": {},
   "outputs": [],
   "source": [
    "y3 = tf.nn.relu(tf.matmul(drop,W3) + b3)"
   ]
  },
  {
   "cell_type": "code",
   "execution_count": 168,
   "metadata": {},
   "outputs": [],
   "source": [
    "y4 = tf.nn.relu(tf.matmul(y3,W4) + b4)"
   ]
  },
  {
   "cell_type": "code",
   "execution_count": 169,
   "metadata": {},
   "outputs": [],
   "source": [
    "y5 = tf.nn.relu(tf.matmul(y4,W5) + b5)"
   ]
  },
  {
   "cell_type": "code",
   "execution_count": 170,
   "metadata": {},
   "outputs": [],
   "source": [
    "y6 = tf.nn.relu(tf.matmul(y5,W6) + b6)"
   ]
  },
  {
   "cell_type": "code",
   "execution_count": 171,
   "metadata": {},
   "outputs": [],
   "source": [
    "y7 = tf.nn.softmax(tf.matmul(y6,W7) + b7)"
   ]
  },
  {
   "cell_type": "code",
   "execution_count": 172,
   "metadata": {},
   "outputs": [],
   "source": [
    "network_output = tf.argmax(y7, axis=1) "
   ]
  },
  {
   "cell_type": "code",
   "execution_count": 173,
   "metadata": {},
   "outputs": [],
   "source": [
    "#Cost function - difference between the predicted value and the actual value\n",
    "\n",
    "cross_entropy = tf.nn.softmax_cross_entropy_with_logits_v2(_sentinel=None, labels=y_, logits=y7, dim=-1, name=None)\n"
   ]
  },
  {
   "cell_type": "code",
   "execution_count": 174,
   "metadata": {},
   "outputs": [],
   "source": [
    "#Determining accuracy of parameters\n",
    "\n",
    "predictions = tf.equal(tf.argmax(y7,1), tf.argmax(y_,1))\n",
    "accuracy = tf.reduce_mean(tf.cast(predictions, tf.float32))"
   ]
  },
  {
   "cell_type": "code",
   "execution_count": 175,
   "metadata": {},
   "outputs": [],
   "source": [
    "#Implementing Gradient Descent Algorithm\n",
    " \n",
    "train_op = tf.train.GradientDescentOptimizer(learning_rate).minimize(cross_entropy)\n",
    "loss_op = tf.reduce_mean(cross_entropy)"
   ]
  },
  {
   "cell_type": "code",
   "execution_count": 176,
   "metadata": {},
   "outputs": [],
   "source": [
    "#rearrange dataset\n",
    "\n",
    "dataset_train = tf.data.Dataset.from_tensor_slices((files_train, labels_train)).repeat().batch(batch_size).shuffle(buffer_size=10000)\n",
    "iter = dataset_train.make_initializable_iterator()\n",
    "ele = iter.get_next()   #you get the filename"
   ]
  },
  {
   "cell_type": "code",
   "execution_count": 177,
   "metadata": {},
   "outputs": [],
   "source": [
    "tf.set_random_seed(43469)"
   ]
  },
  {
   "cell_type": "code",
   "execution_count": 178,
   "metadata": {},
   "outputs": [
    {
     "name": "stdout",
     "output_type": "stream",
     "text": [
      "i: 0 batch: 4 acc 0.53125\n",
      "acc_test 0.5324074\n",
      "acc_test 0.5324074\n",
      "acc_test 0.5324074\n",
      "acc_test 0.5324074\n",
      "acc_test 0.5324074\n",
      "acc_test 0.5324074\n",
      "acc_test 0.5324074\n",
      "acc_test 0.5324074\n",
      "acc_test 0.5324074\n",
      "acc_test 0.5324074\n",
      "i: 10 batch: 4 acc 0.53125\n",
      "acc_test 0.5324074\n",
      "acc_test 0.5324074\n",
      "acc_test 0.5324074\n",
      "acc_test 0.5324074\n",
      "acc_test 0.5324074\n",
      "acc_test 0.5324074\n",
      "acc_test 0.5324074\n",
      "acc_test 0.5324074\n",
      "acc_test 0.5324074\n",
      "acc_test 0.5324074\n",
      "i: 20 batch: 4 acc 0.53125\n",
      "acc_test 0.5324074\n",
      "acc_test 0.5324074\n",
      "acc_test 0.5324074\n",
      "acc_test 0.5324074\n",
      "acc_test 0.5324074\n",
      "acc_test 0.5324074\n",
      "acc_test 0.5324074\n",
      "acc_test 0.5324074\n",
      "acc_test 0.5324074\n",
      "acc_test 0.5324074\n"
     ]
    },
    {
     "data": {
      "text/plain": [
       "[<matplotlib.lines.Line2D at 0x2bf73995080>]"
      ]
     },
     "execution_count": 178,
     "metadata": {},
     "output_type": "execute_result"
    },
    {
     "data": {
      "image/png": "[encoded data removed]",
      "text/plain": [
       "<Figure size 432x288 with 1 Axes>"
      ]
     },
     "metadata": {},
     "output_type": "display_data"
    }
   ],
   "source": [
    "#run session and plot train accuracy\n",
    "\n",
    "with tf.Session() as sess:\n",
    "    sess.run(iter.initializer)\n",
    "    sess.run(tf.global_variables_initializer())\n",
    "    \n",
    "    acc_iteration = [] \n",
    "    acc_iteration_test = []\n",
    "    \n",
    "    for i in range(total_iteration):\n",
    "        #total_batches = int(mnist.train.num_examples / batch_size)\n",
    "        \n",
    "        acc_batch = []\n",
    "        acc_batch_test = []\n",
    "        avg_cost = 0\n",
    "        \n",
    "        for batch in range(total_batches):\n",
    "            files_train, labels_train =  sess.run(ele)   # names, 1s/0s the filename is bytes object!!! TODO\n",
    "            \n",
    "            data_train = np.zeros([batch_size, 2048, 1])\n",
    "            files_train = files_train.astype(np.str)\n",
    "            \n",
    "            \n",
    "            #print(files_train[0])\n",
    "            for ind in range(batch_size):\n",
    "                #print(files_train)\n",
    "                data = read_data(files_train[ind],  header=None, ifnorm=True)\n",
    "                data_train[ind, :] = data\n",
    "            \n",
    "            labels_train_hot =  np.eye((num_classes))[labels_train.astype(int)] # get one-hot lable\n",
    "            \n",
    "            \n",
    "            _, pred, acc, c = sess.run([train_op, predictions, accuracy, loss_op], feed_dict={x_ori: data_train, y_: labels_train_hot})\n",
    "            acc_batch.append(acc)\n",
    "            avg_cost += c / total_batches\n",
    "        if i % 10 == 0:\n",
    "            print('i:', i, 'batch:', batch, 'acc', acc)\n",
    "            \n",
    "            \n",
    "            \n",
    "        data_test = np.zeros([test_sample, 2048, 1])    \n",
    "        for test_nr in range(test_sample):\n",
    "            #data_test = np.zeros([test_sample, 2048, 1])\n",
    "            files_test = files_test.astype(np.str)\n",
    "                \n",
    "            data_test_01 = read_data(files_test[test_nr],  header=None, ifnorm=True)\n",
    "            data_test[test_nr, :] = data_test_01\n",
    "            \n",
    "        labels_test_hot = np.eye((num_classes))[labels_test.astype(int)]\n",
    "            \n",
    "        pred_test, acc_test, pred_labels = sess.run([predictions, accuracy, network_output], feed_dict={x_ori: data_test, y_: labels_test_hot})\n",
    "        acc_batch_test.append(acc_test)\n",
    "        print('acc_test', acc_test)\n",
    "        \n",
    "        aver_acc_batch = np.mean(np.array(acc_batch))\n",
    "        acc_iteration.append(aver_acc_batch)\n",
    "        \n",
    "        aver_acc_batch_test = np.mean(np.array(acc_batch_test))\n",
    "        acc_iteration_test.append(aver_acc_batch_test)\n",
    "    \n",
    "    \n",
    "\n",
    "            \n",
    "plt.plot(np.array(acc_iteration))   \n"
   ]
  },
  {
   "cell_type": "code",
   "execution_count": 179,
   "metadata": {},
   "outputs": [
    {
     "data": {
      "text/plain": [
       "0.6913806557655335"
      ]
     },
     "execution_count": 179,
     "metadata": {},
     "output_type": "execute_result"
    }
   ],
   "source": [
    "avg_cost"
   ]
  },
  {
   "cell_type": "code",
   "execution_count": 180,
   "metadata": {},
   "outputs": [
    {
     "data": {
      "text/plain": [
       "[<matplotlib.lines.Line2D at 0x2bf739e5080>]"
      ]
     },
     "execution_count": 180,
     "metadata": {},
     "output_type": "execute_result"
    },
    {
     "data": {
      "image/png": "[encoded data removed]",
      "text/plain": [
       "<Figure size 432x288 with 1 Axes>"
      ]
     },
     "metadata": {},
     "output_type": "display_data"
    }
   ],
   "source": [
    "#plot test accuracy\n",
    "\n",
    "plt.plot(np.array(acc_iteration_test))  "
   ]
  },
  {
   "cell_type": "code",
   "execution_count": 181,
   "metadata": {},
   "outputs": [],
   "source": [
    "#pred_labels"
   ]
  },
  {
   "cell_type": "code",
   "execution_count": 182,
   "metadata": {},
   "outputs": [],
   "source": [
    "#labels_test"
   ]
  },
  {
   "cell_type": "code",
   "execution_count": 183,
   "metadata": {},
   "outputs": [
    {
     "data": {
      "text/plain": [
       "array([[115,   0],\n",
       "       [101,   0]], dtype=int64)"
      ]
     },
     "execution_count": 183,
     "metadata": {},
     "output_type": "execute_result"
    }
   ],
   "source": [
    "sklearn.metrics.confusion_matrix(labels_test, pred_labels, labels=None, sample_weight=None)"
   ]
  },
  {
   "cell_type": "code",
   "execution_count": null,
   "metadata": {},
   "outputs": [],
   "source": []
  }
 ],
 "metadata": {
  "kernelspec": {
   "display_name": "Python 3",
   "language": "python",
   "name": "python3"
  },
  "language_info": {
   "codemirror_mode": {
    "name": "ipython",
    "version": 3
   },
   "file_extension": ".py",
   "mimetype": "text/x-python",
   "name": "python",
   "nbconvert_exporter": "python",
   "pygments_lexer": "ipython3",
   "version": "3.6.5"
  }
 },
 "nbformat": 4,
 "nbformat_minor": 2
}
