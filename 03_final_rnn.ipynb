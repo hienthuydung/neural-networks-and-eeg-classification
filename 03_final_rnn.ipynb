{
 "cells": [
  {
   "cell_type": "code",
   "execution_count": 2,
   "metadata": {},
   "outputs": [],
   "source": [
    "#import modules\n",
    "import tensorflow as tf\n",
    "import numpy as np\n",
    "import matplotlib.pyplot as plt\n",
    "import os\n",
    "import pandas as pd\n",
    "from scipy.stats import zscore\n",
    "import sklearn\n",
    "from sklearn.model_selection import train_test_split\n",
    "import fnmatch"
   ]
  },
  {
   "cell_type": "code",
   "execution_count": 3,
   "metadata": {},
   "outputs": [],
   "source": [
    "#functions for finding and reading data files\n",
    "\n",
    "def find_files(directory, pattern='Data*.csv', withlabel=True):\n",
    "    '''fine all the files in one directory and assign '1'/'0' to F or N files'''\n",
    "    files = []\n",
    "    for root, dirnames, filenames in os.walk(directory):\n",
    "        for filename in fnmatch.filter(filenames, pattern):\n",
    "            if withlabel:\n",
    "                if 'non-seizure' in filename:\n",
    "                    label = '0'\n",
    "                else:\n",
    "                    label = '1'\n",
    "                files.append((os.path.join(root, filename), label))\n",
    "            else:  # only get names\n",
    "                files.append(os.path.join(root, filename))\n",
    "    \n",
    "    return files\n",
    "\n",
    "def read_data(filename, header=None, ifnorm=False):\n",
    "    '''read data from .csv\n",
    "    Param:\n",
    "        filename: string e.g. 'data/Data_F_Ind0001.csv'\n",
    "        ifnorm: boolean, 1 zscore normalization\n",
    "        start: with filter augmented data, start index of the column indicate which group of data to use\n",
    "        width: how many columns of data to use, times of 2\n",
    "    return:\n",
    "        data: 2d array [seq_len, channel]'''\n",
    "\n",
    "    data = pd.read_csv(filename, header=header, nrows=None)\n",
    "    data = data.values  ### get data without row_index\n",
    "    if ifnorm:   ### 2 * 10240  normalize the data into [0.0, 1.0]]\n",
    "        data_norm = zscore(data)\n",
    "        data = data_norm\n",
    "    #data = np.squeeze(data)   ## shape from [1, seq_len] --> [seq_len,]\n",
    "    return data\n"
   ]
  },
  {
   "cell_type": "code",
   "execution_count": 4,
   "metadata": {},
   "outputs": [
    {
     "name": "stdout",
     "output_type": "stream",
     "text": [
      "first file with label: ('C:\\\\Users\\\\hien\\\\Desktop\\\\eeg_data\\\\seg_data\\\\segNorm_read_out_annosep09_anno_115_non-seizure_No0.csv', '0')\n"
     ]
    }
   ],
   "source": [
    "#find segmented files and return them with label\n",
    "seg_files_wlabel = find_files('C:\\\\Users\\\\hien\\\\Desktop\\\\eeg_data\\\\seg_data', pattern='seg*.csv', withlabel=True)\n",
    "\n",
    "print(\"first file with label:\", seg_files_wlabel[0])"
   ]
  },
  {
   "cell_type": "code",
   "execution_count": 5,
   "metadata": {},
   "outputs": [],
   "source": [
    "#plt.plot(np.array(signals[0]))"
   ]
  },
  {
   "cell_type": "code",
   "execution_count": 47,
   "metadata": {},
   "outputs": [],
   "source": [
    "#split files and labels\n",
    "\n",
    "files, labels = np.array(seg_files_wlabel)[:, 0].astype(np.str), np.array(np.array(seg_files_wlabel)[:, 1]).astype(np.int)\n"
   ]
  },
  {
   "cell_type": "code",
   "execution_count": 48,
   "metadata": {},
   "outputs": [
    {
     "data": {
      "text/plain": [
       "540"
      ]
     },
     "execution_count": 48,
     "metadata": {},
     "output_type": "execute_result"
    }
   ],
   "source": [
    "#number of elements in files/labels\n",
    "len(labels)"
   ]
  },
  {
   "cell_type": "code",
   "execution_count": 49,
   "metadata": {},
   "outputs": [
    {
     "name": "stdout",
     "output_type": "stream",
     "text": [
      "number of test input: 216\n",
      "number of training input: 324\n"
     ]
    }
   ],
   "source": [
    "#split data into training and testing\n",
    "\n",
    "files_train, files_test, labels_train, labels_test = train_test_split(files, labels, test_size=0.4, random_state=42)\n",
    "\n",
    "#print(labels_train)\n",
    "print(\"number of test input:\", len(labels_test))\n",
    "print(\"number of training input:\", len(labels_train))\n"
   ]
  },
  {
   "cell_type": "code",
   "execution_count": 50,
   "metadata": {},
   "outputs": [],
   "source": [
    "#set parameters\n",
    "\n",
    "learning_rate = 0.0001\n",
    "total_epochs = 20 #number of iterations over all samples / epoch\n",
    "batch_size = 64 #amount of files fed to model per iteration\n",
    "test_sample = len(labels_test)\n",
    "total_batches = len(labels_train)//batch_size\n",
    "num_classes = 2\n",
    "\n",
    "chunk_size = 8\n",
    "n_chunks = 2048//chunk_size\n",
    "rnn_size = 64\n",
    "\n",
    "tf.reset_default_graph()\n"
   ]
  },
  {
   "cell_type": "code",
   "execution_count": 51,
   "metadata": {},
   "outputs": [],
   "source": [
    "#set variables x=input, y_=output, W=weights, b=bias\n",
    "\n",
    "# Placeholder variable for the input images\n",
    "x = tf.placeholder(\"float\",[None, n_chunks, chunk_size], name = \"x\") #number of data points\n",
    "\n",
    "#transpose\n",
    "x_transp = tf.transpose(x, [1, 0, 2])\n",
    "\n",
    "# Reshape it into [num_images, img_height, img_width, num_channels]\n",
    "x_reshape = tf.reshape(x_transp, [-1, chunk_size]) #why reshape?\n",
    "\n",
    "# split x\n",
    "x_split = tf.split(x_reshape, n_chunks, 0)\n",
    "\n",
    "# Placeholder variable for the true labels associated with the images\n",
    "y_true = tf.placeholder(\"float\",[None,2], name = \"y_true\") #2 possible outputs\n",
    "y_true_cls = tf.argmax(y_true, axis=1) \n"
   ]
  },
  {
   "cell_type": "code",
   "execution_count": 52,
   "metadata": {},
   "outputs": [],
   "source": [
    "W = tf.Variable(tf.zeros([rnn_size, 2]), name = \"W\")\n",
    "b = tf.Variable(tf.zeros([2]), name = \"b\")"
   ]
  },
  {
   "cell_type": "code",
   "execution_count": 53,
   "metadata": {
    "scrolled": true
   },
   "outputs": [],
   "source": [
    "#rnn setup \n",
    "#with tf.variable_scope('rnn', reuse=tf.AUTO_REUSE) as scope:\n",
    "\n",
    "\n",
    "lstm_layer = tf.contrib.rnn.BasicLSTMCell(rnn_size)\n",
    "outputs, states = tf.nn.static_rnn(lstm_layer, x_split, dtype = tf.float32)\n",
    "\n",
    "output = tf.matmul(outputs[-1], W) + b"
   ]
  },
  {
   "cell_type": "code",
   "execution_count": 54,
   "metadata": {},
   "outputs": [],
   "source": [
    "network_output = tf.argmax(output, axis=1) "
   ]
  },
  {
   "cell_type": "code",
   "execution_count": 55,
   "metadata": {},
   "outputs": [],
   "source": [
    "#define and minimze cost function\n",
    "\n",
    "cross_entropy = tf.nn.softmax_cross_entropy_with_logits_v2(logits=output, labels=y_true)\n",
    "loss_op = tf.reduce_mean(cross_entropy)"
   ]
  },
  {
   "cell_type": "code",
   "execution_count": 56,
   "metadata": {},
   "outputs": [],
   "source": [
    "#training\n",
    "\n",
    "optimizer = tf.train.AdamOptimizer(learning_rate).minimize(loss_op) "
   ]
  },
  {
   "cell_type": "code",
   "execution_count": 57,
   "metadata": {},
   "outputs": [],
   "source": [
    "#Determining accuracy of parameters\n",
    "\n",
    "correct_prediction = tf.equal(tf.argmax(output, axis=1), y_true_cls)\n",
    "accuracy = tf.reduce_mean(tf.cast(correct_prediction, tf.float32))"
   ]
  },
  {
   "cell_type": "code",
   "execution_count": 58,
   "metadata": {},
   "outputs": [],
   "source": [
    "#rearrange dataset\n",
    "\n",
    "dataset_train = tf.data.Dataset.from_tensor_slices((files_train, labels_train)).repeat().batch(batch_size).shuffle(buffer_size=10000)\n",
    "iter = dataset_train.make_initializable_iterator()\n",
    "ele = iter.get_next()   #you get the filename"
   ]
  },
  {
   "cell_type": "code",
   "execution_count": 59,
   "metadata": {},
   "outputs": [
    {
     "name": "stdout",
     "output_type": "stream",
     "text": [
      "acc train 0.540625\n",
      "acc train 0.553125\n",
      "acc train 0.58125\n",
      "acc train 0.5875\n",
      "acc train 0.603125\n",
      "acc train 0.615625\n",
      "acc train 0.590625\n",
      "acc train 0.628125\n",
      "acc train 0.625\n",
      "acc train 0.65\n",
      "acc test [0.5324074  0.5462963  0.54166669 0.5462963  0.5462963  0.54166669\n",
      " 0.5462963  0.55092591 0.56481481 0.56481481 0.57407409 0.57407409\n",
      " 0.5787037  0.60185188 0.59722221 0.59722221 0.6111111  0.625\n",
      " 0.63425928 0.64814812]\n"
     ]
    },
    {
     "data": {
      "text/plain": [
       "[<matplotlib.lines.Line2D at 0x226b9a6b6a0>]"
      ]
     },
     "execution_count": 59,
     "metadata": {},
     "output_type": "execute_result"
    },
    {
     "data": {
      "image/png": "[encoded data removed]",
      "text/plain": [
       "<Figure size 432x288 with 1 Axes>"
      ]
     },
     "metadata": {},
     "output_type": "display_data"
    }
   ],
   "source": [
    "#run session and plot train accuracy\n",
    "\n",
    "with tf.Session() as sess:\n",
    "    sess.run(iter.initializer)\n",
    "    sess.run(tf.global_variables_initializer())\n",
    "    \n",
    "    acc_epoch = np.zeros((total_epochs)) \n",
    "    acc_epoch_test = np.zeros((total_epochs)) \n",
    "    \n",
    "    for epoch in range(total_epochs):\n",
    "        acc_batch = 0\n",
    "        acc_batch_test = 0\n",
    "        avg_cost = 0\n",
    "    \n",
    "        for batch in range(total_batches):\n",
    "            files_train, labels_train =  sess.run(ele)   # names, 1s/0s the filename is bytes object!!! TOD\n",
    "            \n",
    "            data_train = np.zeros([batch_size, 2048, 1])\n",
    "            files_train = files_train.astype(np.str)\n",
    "            \n",
    "            for ind in range(batch_size):\n",
    "                #print(files_train)\n",
    "                data = read_data(files_train[ind],  header=None, ifnorm=True)\n",
    "                data_train[ind, :] = data\n",
    "            \n",
    "            labels_train_hot =  np.eye((num_classes))[labels_train.astype(int)] # get one-hot lable\n",
    "            \n",
    "            acc, _, pred, loss = sess.run([accuracy, optimizer, correct_prediction, loss_op], feed_dict={x: data_train.reshape(-1, n_chunks, chunk_size), y_true: labels_train_hot})\n",
    "        \n",
    "        \n",
    "            acc_batch += acc \n",
    "    \n",
    "        acc_epoch[epoch] = acc_batch / total_batches\n",
    "        avg_cost += loss / total_batches\n",
    "        if epoch % 2 == 0:\n",
    "            print(\"acc train\", acc_batch / total_batches)\n",
    "        \n",
    "        data_test = np.zeros([test_sample, 2048, 1])\n",
    "        for test_nr in range(test_sample):\n",
    "            \n",
    "            files_test = files_test.astype(np.str)\n",
    "                \n",
    "            data_test_01 = read_data(files_test[test_nr],  header=None, ifnorm=True)\n",
    "            data_test[test_nr, :] = data_test_01\n",
    "            \n",
    "        labels_test_hot = np.eye((num_classes))[labels_test.astype(int)]\n",
    "        \n",
    "        acc_test, pred_test, pred_labels = sess.run([accuracy, correct_prediction, network_output], feed_dict={x: data_test.reshape(-1, n_chunks, chunk_size), y_true: labels_test_hot})\n",
    "        \n",
    "        #acc_batch_test += acc_test \n",
    "    \n",
    "        acc_epoch_test[epoch] = acc_test \n",
    "    print(\"acc test\", acc_epoch_test)\n",
    "        \n",
    "        \n",
    "        \n",
    "            \n",
    "\n",
    "            \n",
    "plt.plot(np.array(acc_epoch))   \n"
   ]
  },
  {
   "cell_type": "code",
   "execution_count": 19,
   "metadata": {},
   "outputs": [
    {
     "data": {
      "text/plain": [
       "[<matplotlib.lines.Line2D at 0x226abdfc550>]"
      ]
     },
     "execution_count": 19,
     "metadata": {},
     "output_type": "execute_result"
    },
    {
     "data": {
      "image/png": "[encoded data removed]",
      "text/plain": [
       "<Figure size 432x288 with 1 Axes>"
      ]
     },
     "metadata": {},
     "output_type": "display_data"
    }
   ],
   "source": [
    "plt.plot(np.array(acc_epoch_test))  "
   ]
  },
  {
   "cell_type": "code",
   "execution_count": 20,
   "metadata": {},
   "outputs": [
    {
     "data": {
      "text/plain": [
       "0.12538410425186158"
      ]
     },
     "execution_count": 20,
     "metadata": {},
     "output_type": "execute_result"
    }
   ],
   "source": [
    "avg_cost"
   ]
  },
  {
   "cell_type": "code",
   "execution_count": 21,
   "metadata": {},
   "outputs": [],
   "source": [
    "#pred_test"
   ]
  },
  {
   "cell_type": "code",
   "execution_count": 22,
   "metadata": {},
   "outputs": [],
   "source": [
    "#pred"
   ]
  },
  {
   "cell_type": "code",
   "execution_count": 23,
   "metadata": {},
   "outputs": [
    {
     "data": {
      "text/plain": [
       "array([[112,   3],\n",
       "       [  1, 100]], dtype=int64)"
      ]
     },
     "execution_count": 23,
     "metadata": {},
     "output_type": "execute_result"
    }
   ],
   "source": [
    "sklearn.metrics.confusion_matrix(labels_test, pred_labels, labels=None, sample_weight=None)"
   ]
  },
  {
   "cell_type": "code",
   "execution_count": 24,
   "metadata": {},
   "outputs": [
    {
     "data": {
      "text/plain": [
       "array([1, 0, 0, 1, 0, 0, 1, 0, 1, 1, 0, 0, 0, 0, 1, 0, 1, 0, 0, 0, 1, 1,\n",
       "       1, 1, 1, 0, 1, 1, 0, 1, 1, 1, 1, 0, 1, 0, 0, 0, 0, 0, 1, 1, 0, 1,\n",
       "       1, 0, 1, 1, 0, 0, 1, 0, 1, 0, 0, 1, 0, 0, 1, 1, 1, 1, 0, 0, 0, 1,\n",
       "       0, 1, 1, 0, 0, 1, 1, 0, 0, 1, 0, 1, 1, 0, 0, 0, 0, 1, 0, 0, 1, 0,\n",
       "       1, 0, 0, 1, 1, 1, 1, 0, 0, 0, 1, 0, 0, 1, 0, 0, 1, 0, 0, 0, 1, 1,\n",
       "       0, 1, 1, 1, 1, 1, 0, 0, 1, 1, 0, 0, 1, 0, 0, 0, 1, 1, 0, 1, 0, 0,\n",
       "       1, 1, 1, 0, 0, 1, 1, 1, 0, 0, 1, 0, 1, 0, 0, 0, 0, 0, 1, 0, 0, 1,\n",
       "       0, 1, 0, 0, 1, 1, 0, 0, 1, 1, 1, 0, 1, 0, 0, 0, 1, 1, 1, 0, 0, 0,\n",
       "       0, 1, 0, 1, 1, 1, 0, 0, 0, 1, 1, 0, 0, 1, 0, 0, 0, 1, 0, 0, 1, 1,\n",
       "       0, 0, 1, 0, 0, 1, 0, 0, 0, 1, 0, 0, 1, 1, 1, 1, 0, 1])"
      ]
     },
     "execution_count": 24,
     "metadata": {},
     "output_type": "execute_result"
    }
   ],
   "source": [
    "labels_test"
   ]
  },
  {
   "cell_type": "code",
   "execution_count": 25,
   "metadata": {},
   "outputs": [
    {
     "data": {
      "text/plain": [
       "array([1, 0, 0, 1, 0, 0, 1, 0, 1, 1, 0, 0, 0, 0, 1, 0, 1, 0, 0, 0, 0, 1,\n",
       "       1, 1, 1, 0, 1, 1, 0, 1, 1, 1, 1, 0, 1, 0, 0, 0, 0, 0, 1, 1, 0, 1,\n",
       "       1, 0, 1, 1, 0, 0, 1, 0, 1, 0, 0, 1, 0, 0, 1, 1, 1, 1, 0, 0, 0, 1,\n",
       "       0, 1, 1, 0, 0, 1, 1, 0, 0, 1, 0, 1, 1, 0, 0, 0, 0, 1, 0, 1, 1, 0,\n",
       "       1, 0, 0, 1, 1, 1, 1, 0, 0, 0, 1, 0, 0, 1, 0, 0, 1, 0, 0, 0, 1, 1,\n",
       "       0, 1, 1, 1, 1, 1, 0, 0, 1, 1, 0, 0, 1, 0, 0, 0, 1, 1, 0, 1, 0, 0,\n",
       "       1, 1, 1, 0, 1, 1, 1, 1, 0, 0, 1, 0, 1, 0, 0, 0, 0, 0, 1, 0, 0, 1,\n",
       "       0, 1, 0, 0, 1, 1, 0, 0, 1, 1, 1, 0, 1, 0, 0, 0, 1, 1, 1, 0, 0, 0,\n",
       "       0, 1, 0, 1, 1, 1, 0, 0, 0, 1, 1, 0, 0, 1, 0, 0, 0, 1, 0, 0, 1, 1,\n",
       "       0, 0, 1, 1, 0, 1, 0, 0, 0, 1, 0, 0, 1, 1, 1, 1, 0, 1], dtype=int64)"
      ]
     },
     "execution_count": 25,
     "metadata": {},
     "output_type": "execute_result"
    }
   ],
   "source": [
    "pred_labels"
   ]
  },
  {
   "cell_type": "code",
   "execution_count": 26,
   "metadata": {},
   "outputs": [
    {
     "data": {
      "text/plain": [
       "[<matplotlib.lines.Line2D at 0x226b307ba90>]"
      ]
     },
     "execution_count": 26,
     "metadata": {},
     "output_type": "execute_result"
    },
    {
     "data": {
      "image/png": "[encoded data removed]",
      "text/plain": [
       "<Figure size 432x288 with 1 Axes>"
      ]
     },
     "metadata": {},
     "output_type": "display_data"
    }
   ],
   "source": [
    "plt.plot(pred_labels)"
   ]
  },
  {
   "cell_type": "code",
   "execution_count": null,
   "metadata": {},
   "outputs": [],
   "source": []
  }
 ],
 "metadata": {
  "kernelspec": {
   "display_name": "Python 3",
   "language": "python",
   "name": "python3"
  },
  "language_info": {
   "codemirror_mode": {
    "name": "ipython",
    "version": 3
   },
   "file_extension": ".py",
   "mimetype": "text/x-python",
   "name": "python",
   "nbconvert_exporter": "python",
   "pygments_lexer": "ipython3",
   "version": "3.6.5"
  }
 },
 "nbformat": 4,
 "nbformat_minor": 2
}
