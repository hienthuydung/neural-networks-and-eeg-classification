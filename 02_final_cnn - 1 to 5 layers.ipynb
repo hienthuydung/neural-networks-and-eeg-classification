{
 "cells": [
  {
   "cell_type": "code",
   "execution_count": 1,
   "metadata": {},
   "outputs": [],
   "source": [
    "#import modules\n",
    "import tensorflow as tf\n",
    "import numpy as np\n",
    "import matplotlib.pyplot as plt\n",
    "import os\n",
    "import pandas as pd\n",
    "from scipy.stats import zscore\n",
    "import sklearn\n",
    "from sklearn.model_selection import train_test_split\n",
    "import fnmatch"
   ]
  },
  {
   "cell_type": "code",
   "execution_count": 2,
   "metadata": {},
   "outputs": [],
   "source": [
    "#functions for finding and reading data files\n",
    "\n",
    "def find_files(directory, pattern='Data*.csv', withlabel=True):\n",
    "    '''fine all the files in one directory and assign '1'/'0' to F or N files'''\n",
    "    files = []\n",
    "    for root, dirnames, filenames in os.walk(directory):\n",
    "        for filename in fnmatch.filter(filenames, pattern):\n",
    "            if withlabel:\n",
    "                if 'non-seizure' in filename:\n",
    "                    label = '0'\n",
    "                else:\n",
    "                    label = '1'\n",
    "                files.append((os.path.join(root, filename), label))\n",
    "            else:  # only get names\n",
    "                files.append(os.path.join(root, filename))\n",
    "    \n",
    "    return files\n",
    "\n",
    "def read_data(filename, header=None, ifnorm=False):\n",
    "    '''read data from .csv\n",
    "    Param:\n",
    "        filename: string e.g. 'data/Data_F_Ind0001.csv'\n",
    "        ifnorm: boolean, 1 zscore normalization\n",
    "        start: with filter augmented data, start index of the column indicate which group of data to use\n",
    "        width: how many columns of data to use, times of 2\n",
    "    return:\n",
    "        data: 2d array [seq_len, channel]'''\n",
    "\n",
    "    data = pd.read_csv(filename, header=header, nrows=None)\n",
    "    data = data.values  ### get data without row_index\n",
    "    if ifnorm:   ### 2 * 10240  normalize the data into [0.0, 1.0]]\n",
    "        data_norm = zscore(data)\n",
    "        data = data_norm\n",
    "    #data = np.squeeze(data)   ## shape from [1, seq_len] --> [seq_len,]\n",
    "    return data\n"
   ]
  },
  {
   "cell_type": "code",
   "execution_count": 3,
   "metadata": {},
   "outputs": [
    {
     "name": "stdout",
     "output_type": "stream",
     "text": [
      "first file with label: ('C:\\\\Users\\\\hien\\\\Desktop\\\\eeg_data\\\\seg_data\\\\segNorm_read_out_annosep09_anno_115_non-seizure_No0.csv', '0')\n"
     ]
    }
   ],
   "source": [
    "#find segmented files and return them with label\n",
    "seg_files_wlabel = find_files('C:\\\\Users\\\\hien\\\\Desktop\\\\eeg_data\\\\seg_data', pattern='seg*.csv', withlabel=True)\n",
    "\n",
    "print(\"first file with label:\", seg_files_wlabel[0])"
   ]
  },
  {
   "cell_type": "code",
   "execution_count": 4,
   "metadata": {},
   "outputs": [],
   "source": [
    "#split files and labels\n",
    "\n",
    "files, labels = np.array(seg_files_wlabel)[:, 0].astype(np.str), np.array(np.array(seg_files_wlabel)[:, 1]).astype(np.int)\n",
    "\n",
    "#print(\"first filename:\", files[0])\n",
    "#print(\"list of all labels\", labels)"
   ]
  },
  {
   "cell_type": "code",
   "execution_count": 5,
   "metadata": {},
   "outputs": [],
   "source": [
    "#length of a signal\n",
    "#len(signals[0])"
   ]
  },
  {
   "cell_type": "code",
   "execution_count": 6,
   "metadata": {},
   "outputs": [
    {
     "data": {
      "text/plain": [
       "540"
      ]
     },
     "execution_count": 6,
     "metadata": {},
     "output_type": "execute_result"
    }
   ],
   "source": [
    "#number of elements in files/labels\n",
    "len(labels)"
   ]
  },
  {
   "cell_type": "code",
   "execution_count": 333,
   "metadata": {},
   "outputs": [
    {
     "name": "stdout",
     "output_type": "stream",
     "text": [
      "number of test input: 216\n",
      "number of training input: 324\n"
     ]
    }
   ],
   "source": [
    "#split data into training and testing\n",
    "\n",
    "files_train, files_test, labels_train, labels_test = train_test_split(files, labels, test_size=0.4, random_state=42)\n",
    "\n",
    "#print(labels_train)\n",
    "print(\"number of test input:\", len(labels_test))\n",
    "print(\"number of training input:\", len(labels_train))\n"
   ]
  },
  {
   "cell_type": "code",
   "execution_count": 334,
   "metadata": {},
   "outputs": [],
   "source": [
    "#set parameters\n",
    "\n",
    "learning_rate = 0.001\n",
    "total_epochs = 30 #number of iterations over all samples / epoch\n",
    "batch_size = 64 #amount of files fed to model per iteration\n",
    "test_sample = len(labels_test)\n",
    "total_batches = len(labels_train)//batch_size\n",
    "num_classes = 2\n"
   ]
  },
  {
   "cell_type": "code",
   "execution_count": 335,
   "metadata": {},
   "outputs": [],
   "source": [
    "#set variables x=input, y_=output, W=weights, b=bias\n",
    "\n",
    "# Placeholder variable for the input images\n",
    "x = tf.placeholder(\"float\",[None, 2048, 1], name = \"x\") #number of data points\n",
    "# Reshape it into [num_images, img_height, img_width, num_channels]\n",
    "x_image = tf.reshape(x, [-1, 2048, 1, 1]) #why reshape?\n",
    "\n",
    "# Placeholder variable for the true labels associated with the images\n",
    "y_true = tf.placeholder(\"float\",[None,2], name = \"y_true\") #2 possible outputs\n",
    "y_true_cls = tf.argmax(y_true, axis=1) \n"
   ]
  },
  {
   "cell_type": "code",
   "execution_count": 336,
   "metadata": {},
   "outputs": [],
   "source": [
    "#set var\n",
    "\n",
    "filter_no_1 = 4\n",
    "filter_no_2 = 4\n",
    "filter_no_3 = 4\n",
    "filter_no_4 = 4\n",
    "filter_no_5 = 4\n",
    "\n",
    "filtersize_1 = 9\n",
    "filtersize_2 = 9\n",
    "filtersize_3 = 9\n",
    "filtersize_4 = 9\n",
    "filtersize_5 = 9\n",
    "\n",
    "poolsize_1 = 4\n",
    "poolsize_2 = 4\n",
    "poolsize_3 = 4\n",
    "poolsize_4 = 4\n",
    "poolsize_5 = 4\n",
    "\n",
    "stride_1 = 1\n",
    "stride_2 = 1\n",
    "stride_3 = 1\n",
    "stride_4 = 1\n",
    "stride_5 = 1\n",
    "\n",
    "poolstride_1 = 2\n",
    "poolstride_2 = 2\n",
    "poolstride_3 = 2\n",
    "poolstride_4 = 2\n",
    "poolstride_5 = 2\n",
    "\n",
    "\n",
    "dense_neu_1 = 100\n",
    "dense_neu_2 = 30"
   ]
  },
  {
   "cell_type": "code",
   "execution_count": 337,
   "metadata": {},
   "outputs": [],
   "source": [
    "#set up network\n",
    "\n",
    "\n",
    "layer = tf.layers.conv2d(x_image, filter_no_1, [filtersize_1, 1], strides = (stride_1, 1), padding = \"same\", activation = tf.nn.relu)\n",
    "\n",
    "layer = tf.layers.max_pooling2d(inputs=layer, pool_size=[poolsize_1, 1], strides= [poolstride_1, 1])\n",
    "\n",
    "#layer = tf.layers.conv2d(layer, filter_no_2, [filtersize_2, 1], strides = (stride_2, 1), padding = \"same\", activation = tf.nn.relu)\n",
    "\n",
    "#layer = tf.layers.max_pooling2d(inputs=layer, pool_size=[poolsize_2, 1], strides= [poolstride_2, 1])\n",
    "\n",
    "#layer = tf.layers.conv2d(layer, filter_no_3, [filtersize_3, 1], strides = (stride_3, 1), padding = \"same\", activation = tf.nn.relu)\n",
    "\n",
    "#layer = tf.layers.max_pooling2d(inputs=layer, pool_size=[poolsize_3, 1], strides= [poolstride_3, 1])#poolsize/strides: 2, 4, 6... filter size\n",
    "\n",
    "#layer = tf.layers.conv2d(layer, filter_no_4, [filtersize_4, 1], strides = (stride_4, 1), padding = \"same\", activation = tf.nn.relu)\n",
    "\n",
    "#layer = tf.layers.max_pooling2d(inputs=layer, pool_size=[poolsize_4, 1], strides= [poolstride_4, 1])\n",
    "\n",
    "#layer = tf.layers.conv2d(layer, filter_no_5, [filtersize_5, 1], strides = (stride_5, 1), padding = \"same\", activation = tf.nn.relu)\n",
    "\n",
    "#layer = tf.layers.max_pooling2d(inputs=layer, pool_size=[poolsize_5, 1], strides= [poolstride_5, 1])\n",
    "\n",
    "flatten_layer = tf.layers.flatten(layer, name=None)\n",
    "\n",
    "layer = tf.layers.dense(flatten_layer, 100, activation=tf.nn.relu)\n",
    "\n",
    "layer = tf.nn.dropout(layer, keep_prob = 0.3, noise_shape=None, seed=None, name=None)\n",
    "\n",
    "output = tf.layers.dense(layer, 2, activation=tf.nn.softmax)\n",
    "\n"
   ]
  },
  {
   "cell_type": "code",
   "execution_count": 338,
   "metadata": {},
   "outputs": [],
   "source": [
    "network_output = tf.argmax(output, axis=1) "
   ]
  },
  {
   "cell_type": "code",
   "execution_count": 339,
   "metadata": {},
   "outputs": [],
   "source": [
    "#define and minimze cost function\n",
    "\n",
    "cross_entropy = tf.nn.softmax_cross_entropy_with_logits_v2(logits=output, labels=y_true)\n",
    "loss_op = tf.reduce_mean(cross_entropy)"
   ]
  },
  {
   "cell_type": "code",
   "execution_count": 340,
   "metadata": {},
   "outputs": [],
   "source": [
    "#training\n",
    "\n",
    "optimizer = tf.train.AdamOptimizer(learning_rate).minimize(loss_op) "
   ]
  },
  {
   "cell_type": "code",
   "execution_count": 341,
   "metadata": {},
   "outputs": [],
   "source": [
    "#Determining accuracy of parameters\n",
    "\n",
    "correct_prediction = tf.equal(tf.argmax(output, axis=1), y_true_cls)\n",
    "accuracy = tf.reduce_mean(tf.cast(correct_prediction, tf.float32))"
   ]
  },
  {
   "cell_type": "code",
   "execution_count": 342,
   "metadata": {},
   "outputs": [],
   "source": [
    "#rearrange dataset\n",
    "\n",
    "dataset_train = tf.data.Dataset.from_tensor_slices((files_train, labels_train)).repeat().batch(batch_size).shuffle(buffer_size=10000)\n",
    "iter = dataset_train.make_initializable_iterator()\n",
    "ele = iter.get_next()   #you get the filename"
   ]
  },
  {
   "cell_type": "code",
   "execution_count": 343,
   "metadata": {},
   "outputs": [
    {
     "name": "stdout",
     "output_type": "stream",
     "text": [
      "acc train 0.603125\n",
      "acc train 0.978125\n",
      "acc train 0.99375\n",
      "acc test [0.75462961 0.81481481 0.875      0.88425928 0.89814812 0.93518519\n",
      " 0.93518519 0.92592591 0.94907409 0.93518519 0.94444442 0.94907409\n",
      " 0.95833331 0.92592591 0.92592591 0.94444442 0.9537037  0.94907409\n",
      " 0.93055558 0.96296299 0.94444442 0.94444442 0.94907409 0.92592591\n",
      " 0.94444442 0.93981481 0.9537037  0.95833331 0.94444442 0.94907409]\n"
     ]
    },
    {
     "data": {
      "text/plain": [
       "[<matplotlib.lines.Line2D at 0x21a71332e48>]"
      ]
     },
     "execution_count": 343,
     "metadata": {},
     "output_type": "execute_result"
    },
    {
     "data": {
      "image/png": "[encoded data removed]",
      "text/plain": [
       "<Figure size 432x288 with 1 Axes>"
      ]
     },
     "metadata": {},
     "output_type": "display_data"
    }
   ],
   "source": [
    "#run session and plot train accuracy\n",
    "\n",
    "with tf.Session() as sess:\n",
    "    sess.run(iter.initializer)\n",
    "    sess.run(tf.global_variables_initializer())\n",
    "    \n",
    "    acc_epoch = np.zeros((total_epochs)) \n",
    "    acc_epoch_test = np.zeros((total_epochs)) \n",
    "    \n",
    "    for epoch in range(total_epochs):\n",
    "        acc_batch = 0\n",
    "        acc_batch_test = 0\n",
    "        avg_cost = 0\n",
    "    \n",
    "        for batch in range(total_batches):\n",
    "            files_train, labels_train =  sess.run(ele)   # names, 1s/0s the filename is bytes object!!! TODO\n",
    "            \n",
    "            data_train = np.zeros([batch_size, 2048, 1])\n",
    "            files_train = files_train.astype(np.str)\n",
    "            \n",
    "            for ind in range(batch_size):\n",
    "                \n",
    "                data = read_data(files_train[ind],  header=None, ifnorm=True)\n",
    "                data_train[ind, :] = data\n",
    "            \n",
    "            labels_train_hot =  np.eye((num_classes))[labels_train.astype(int)] # get one-hot lable\n",
    "            \n",
    "            acc, _, pred, loss = sess.run([accuracy, optimizer, correct_prediction, loss_op], feed_dict={x: data_train, y_true: labels_train_hot})\n",
    "        \n",
    "        \n",
    "            acc_batch += acc \n",
    "    \n",
    "        acc_epoch[epoch] = acc_batch / total_batches\n",
    "        avg_cost += loss / total_batches\n",
    "        if epoch % 10 == 0:\n",
    "            print(\"acc train\", acc_batch / total_batches)\n",
    "        \n",
    "        data_test = np.zeros([test_sample, 2048, 1])\n",
    "        for test_nr in range(test_sample):\n",
    "            \n",
    "            files_test = files_test.astype(np.str)\n",
    "                \n",
    "            data_test_01 = read_data(files_test[test_nr],  header=None, ifnorm=True)\n",
    "            data_test[test_nr, :] = data_test_01\n",
    "            \n",
    "        labels_test_hot = np.eye((num_classes))[labels_test.astype(int)]\n",
    "        \n",
    "        acc_test, pred_test, pred_labels = sess.run([accuracy, correct_prediction, network_output], feed_dict={x: data_test, y_true: labels_test_hot})\n",
    "        \n",
    "        #acc_batch_test += acc_test \n",
    "    \n",
    "        acc_epoch_test[epoch] = acc_test \n",
    "    print(\"acc test\", acc_epoch_test)\n",
    "        \n",
    "        \n",
    "        \n",
    "            \n",
    "\n",
    "            \n",
    "plt.plot(np.array(acc_epoch))   \n"
   ]
  },
  {
   "cell_type": "code",
   "execution_count": 344,
   "metadata": {},
   "outputs": [
    {
     "data": {
      "text/plain": [
       "[<matplotlib.lines.Line2D at 0x21a6f037f28>]"
      ]
     },
     "execution_count": 344,
     "metadata": {},
     "output_type": "execute_result"
    },
    {
     "data": {
      "image/png": "[encoded data removed]",
      "text/plain": [
       "<Figure size 432x288 with 1 Axes>"
      ]
     },
     "metadata": {},
     "output_type": "display_data"
    }
   ],
   "source": [
    "plt.plot(np.array(acc_epoch_test))  "
   ]
  },
  {
   "cell_type": "code",
   "execution_count": 345,
   "metadata": {},
   "outputs": [
    {
     "data": {
      "text/plain": [
       "0.06380176544189453"
      ]
     },
     "execution_count": 345,
     "metadata": {},
     "output_type": "execute_result"
    }
   ],
   "source": [
    "avg_cost"
   ]
  },
  {
   "cell_type": "code",
   "execution_count": 346,
   "metadata": {},
   "outputs": [],
   "source": [
    "#pred_test"
   ]
  },
  {
   "cell_type": "code",
   "execution_count": 347,
   "metadata": {},
   "outputs": [],
   "source": [
    "#pred"
   ]
  },
  {
   "cell_type": "code",
   "execution_count": 348,
   "metadata": {},
   "outputs": [
    {
     "data": {
      "text/plain": [
       "array([[109,   6],\n",
       "       [  5,  96]], dtype=int64)"
      ]
     },
     "execution_count": 348,
     "metadata": {},
     "output_type": "execute_result"
    }
   ],
   "source": [
    "sklearn.metrics.confusion_matrix(labels_test, pred_labels, labels=None, sample_weight=None)"
   ]
  },
  {
   "cell_type": "code",
   "execution_count": null,
   "metadata": {},
   "outputs": [],
   "source": []
  }
 ],
 "metadata": {
  "kernelspec": {
   "display_name": "Python 3",
   "language": "python",
   "name": "python3"
  },
  "language_info": {
   "codemirror_mode": {
    "name": "ipython",
    "version": 3
   },
   "file_extension": ".py",
   "mimetype": "text/x-python",
   "name": "python",
   "nbconvert_exporter": "python",
   "pygments_lexer": "ipython3",
   "version": "3.6.5"
  }
 },
 "nbformat": 4,
 "nbformat_minor": 2
}
